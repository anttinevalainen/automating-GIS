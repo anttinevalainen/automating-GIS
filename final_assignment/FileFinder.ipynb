{
 "cells": [
  {
   "cell_type": "code",
   "execution_count": 49,
   "metadata": {},
   "outputs": [],
   "source": [
    "#import modules\n",
    "import glob\n",
    "import geopandas as gpd\n",
    "import pandas as pd\n",
    "from Final import FileFinder\n",
    "import builtins"
   ]
  },
  {
   "cell_type": "code",
   "execution_count": 50,
   "metadata": {},
   "outputs": [],
   "source": [
    "#define function for the filefinder\n",
    "def FileFinder(YKR_ID, foldername):\n",
    "    \"\"\"finds a list of travel time matrix files based on a single YKR_ID or a list of YKR_ID values from a specified input folder\"\"\"\n",
    "    \n",
    "    #Make assertions that given IDs are a list of integers and the foldername is string\n",
    "    assert type(YKR_ID) == str or type(YKR_ID) == int or type(YKR_ID) == builtins.list, 'The given variable must be a string, integer or list'\n",
    "    if type(YKR_ID) == builtins.list:\n",
    "        for index in YKR_ID:\n",
    "            assert type(index) == str or type(index) == int, 'The variables in a given list need to be string or integer'\n",
    "        \n",
    "    assert type(foldername) == str, 'The foldername needs to be a string'\n",
    "    \n",
    "    \n",
    "    if type(YKR_ID) != builtins.list:\n",
    "        copy = YKR_ID\n",
    "        YKR_ID = []\n",
    "        YKR_ID.append(copy)\n",
    "\n",
    "        \n",
    "    #create a list with text files from given folder and its subfolders (recursive=true)\n",
    "    list = glob.glob(foldername + '/**/*.txt',recursive=True)\n",
    "    filenumbers = []\n",
    "    for i in list:\n",
    "        split = i.split('_')\n",
    "        split = split[2].split('.')\n",
    "        filenumbers.append(split[0])\n",
    "       \n",
    "    #Go through the given files and see which match with given YKR_IDs        \n",
    "    filenames = []\n",
    "    index = 0\n",
    "    for i in filenumbers:\n",
    "        file = 'TravelTimes_to_' + i + '.txt'\n",
    "        index = index + 1\n",
    "        print('processing file', file,'... Progress: ', str(index), '/', str(len(filenumbers)))\n",
    "        #go through given YKR IDs to find if they match with the file names.\n",
    "        #If a match is found, the file number is removed to make sure it's not added two times to the output list\n",
    "        for j in YKR_ID:\n",
    "            if str(j) == i:\n",
    "                filename = 'TravelTimes_to_' + str(j) + '.txt'\n",
    "                filenames.append(filename)\n",
    "                YKR_ID.remove(j)\n",
    "    \n",
    "    if len(filenames) < 1:\n",
    "        print('No files found with given YKR ID(s)')\n",
    "    #Collect full filepaths for the output from the list created in the first steps            \n",
    "    output = []\n",
    "    for i in filenames:\n",
    "        for j in list:\n",
    "            if i in j:\n",
    "                output.append(j)\n",
    "                list.remove(j)\n",
    "    print('FileFinder completed! Found ' + str(len(output)) + ' files with the given YKR IDs!')\n",
    "    return output"
   ]
  },
  {
   "cell_type": "code",
   "execution_count": 51,
   "metadata": {},
   "outputs": [],
   "source": [
    "YKR_list = [5978593, 5944003, 5975373, 5937141]\n",
    "folder = 'data'"
   ]
  },
  {
   "cell_type": "code",
   "execution_count": 52,
   "metadata": {},
   "outputs": [
    {
     "name": "stdout",
     "output_type": "stream",
     "text": [
      "processing file TravelTimes_to_5878087.txt ... Progress:  1 / 7\n",
      "processing file TravelTimes_to_5944003.txt ... Progress:  2 / 7\n",
      "processing file TravelTimes_to_5878070.txt ... Progress:  3 / 7\n",
      "processing file TravelTimes_to_5902043.txt ... Progress:  4 / 7\n",
      "processing file TravelTimes_to_5978593.txt ... Progress:  5 / 7\n",
      "processing file TravelTimes_to_5975373.txt ... Progress:  6 / 7\n",
      "processing file TravelTimes_to_5980260.txt ... Progress:  7 / 7\n",
      "FileFinder completed! Found 3 files with the given YKR IDs!\n"
     ]
    }
   ],
   "source": [
    "output = FileFinder(YKR_list, folder)"
   ]
  },
  {
   "cell_type": "code",
   "execution_count": 53,
   "metadata": {},
   "outputs": [
    {
     "data": {
      "text/plain": [
       "['data/TravelTimes_to_5944003.txt',\n",
       " 'data/TravelTimes_to_5978593.txt',\n",
       " 'data/TravelTimes_to_5975373.txt']"
      ]
     },
     "execution_count": 53,
     "metadata": {},
     "output_type": "execute_result"
    }
   ],
   "source": [
    "output"
   ]
  },
  {
   "cell_type": "code",
   "execution_count": null,
   "metadata": {},
   "outputs": [],
   "source": []
  },
  {
   "cell_type": "code",
   "execution_count": null,
   "metadata": {},
   "outputs": [],
   "source": []
  },
  {
   "cell_type": "code",
   "execution_count": null,
   "metadata": {},
   "outputs": [],
   "source": []
  },
  {
   "cell_type": "code",
   "execution_count": null,
   "metadata": {},
   "outputs": [],
   "source": []
  },
  {
   "cell_type": "code",
   "execution_count": null,
   "metadata": {},
   "outputs": [],
   "source": []
  },
  {
   "cell_type": "code",
   "execution_count": null,
   "metadata": {},
   "outputs": [],
   "source": []
  }
 ],
 "metadata": {
  "kernelspec": {
   "display_name": "Python 3",
   "language": "python",
   "name": "python3"
  },
  "language_info": {
   "codemirror_mode": {
    "name": "ipython",
    "version": 3
   },
   "file_extension": ".py",
   "mimetype": "text/x-python",
   "name": "python",
   "nbconvert_exporter": "python",
   "pygments_lexer": "ipython3",
   "version": "3.7.3"
  }
 },
 "nbformat": 4,
 "nbformat_minor": 4
}
